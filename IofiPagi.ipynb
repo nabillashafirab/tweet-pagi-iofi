{
 "cells": [
  {
   "cell_type": "markdown",
   "metadata": {},
   "source": [
    "# Install and Import Library"
   ]
  },
  {
   "cell_type": "code",
   "execution_count": 1,
   "metadata": {},
   "outputs": [],
   "source": [
    "#import library\n",
    "import snscrape.modules.twitter as sntwitter\n",
    "import pandas as pd\n",
    "from datetime import datetime\n",
    "from pytz import timezone\n",
    "import pytz\n",
    "import numpy as np\n",
    "import matplotlib.pyplot as plt"
   ]
  },
  {
   "cell_type": "markdown",
   "metadata": {},
   "source": [
    "# Scraping Data"
   ]
  },
  {
   "cell_type": "markdown",
   "metadata": {},
   "source": [
    "source: \n",
    "https://betterprogramming.pub/how-to-scrape-tweets-with-snscrape-90124ed006af\n",
    "https://github.com/MartinBeckUT/TwitterScraper/blob/master/snscrape/python-wrapper/snscrape-python-wrapper.ipynb"
   ]
  },
  {
   "cell_type": "code",
   "execution_count": 2,
   "metadata": {},
   "outputs": [],
   "source": [
    "# Creating list to append tweet data to\n",
    "tweets_list1 = []\n",
    "today = datetime.today().strftime('%Y-%m-%d')\n",
    "string = 'pagi from:airaniiofifteen -filter:replies until:'\n",
    "string = string + today\n",
    "# Using TwitterSearchScraper to scrape data and append tweets to list\n",
    "for i,tweet in enumerate(sntwitter.TwitterSearchScraper(string).get_items()):\n",
    "    tweets_list1.append([tweet.date.astimezone(timezone('Asia/Jakarta')), tweet.date.astimezone(timezone('Asia/Jakarta')).hour, tweet.content])"
   ]
  },
  {
   "cell_type": "code",
   "execution_count": 3,
   "metadata": {},
   "outputs": [
    {
     "data": {
      "text/html": [
       "<div>\n",
       "<style scoped>\n",
       "    .dataframe tbody tr th:only-of-type {\n",
       "        vertical-align: middle;\n",
       "    }\n",
       "\n",
       "    .dataframe tbody tr th {\n",
       "        vertical-align: top;\n",
       "    }\n",
       "\n",
       "    .dataframe thead th {\n",
       "        text-align: right;\n",
       "    }\n",
       "</style>\n",
       "<table border=\"1\" class=\"dataframe\">\n",
       "  <thead>\n",
       "    <tr style=\"text-align: right;\">\n",
       "      <th></th>\n",
       "      <th>Datetime</th>\n",
       "      <th>Hour</th>\n",
       "      <th>Text</th>\n",
       "    </tr>\n",
       "  </thead>\n",
       "  <tbody>\n",
       "    <tr>\n",
       "      <th>1</th>\n",
       "      <td>2022-05-19 17:23:52+07:00</td>\n",
       "      <td>17</td>\n",
       "      <td>Kalian tau yopi ngapain aja dari pagi sampai j...</td>\n",
       "    </tr>\n",
       "    <tr>\n",
       "      <th>2</th>\n",
       "      <td>2022-05-17 09:00:33+07:00</td>\n",
       "      <td>9</td>\n",
       "      <td>Aku yang menikmati teh pagi sambil melihat mem...</td>\n",
       "    </tr>\n",
       "    <tr>\n",
       "      <th>3</th>\n",
       "      <td>2022-05-17 08:46:00+07:00</td>\n",
       "      <td>8</td>\n",
       "      <td>Hehehehe\\n\\nPagi https://t.co/q2nTY5wksP</td>\n",
       "    </tr>\n",
       "    <tr>\n",
       "      <th>4</th>\n",
       "      <td>2022-05-16 10:29:08+07:00</td>\n",
       "      <td>10</td>\n",
       "      <td>Pagi 🥰 https://t.co/1pFoyrRaxP</td>\n",
       "    </tr>\n",
       "    <tr>\n",
       "      <th>5</th>\n",
       "      <td>2022-05-15 09:16:01+07:00</td>\n",
       "      <td>9</td>\n",
       "      <td>Pagi https://t.co/4LXFwwlOap</td>\n",
       "    </tr>\n",
       "    <tr>\n",
       "      <th>6</th>\n",
       "      <td>2022-05-14 09:44:51+07:00</td>\n",
       "      <td>9</td>\n",
       "      <td>Pagi \\n\\nPat my head pls \\n\\nなでなでして https://t....</td>\n",
       "    </tr>\n",
       "    <tr>\n",
       "      <th>7</th>\n",
       "      <td>2022-05-13 09:50:33+07:00</td>\n",
       "      <td>9</td>\n",
       "      <td>Hmmm\\n\\nPagi https://t.co/fNsglMlKSu</td>\n",
       "    </tr>\n",
       "    <tr>\n",
       "      <th>8</th>\n",
       "      <td>2022-05-12 10:04:17+07:00</td>\n",
       "      <td>10</td>\n",
       "      <td>Pagi 💕 https://t.co/RSGzKIc7DI</td>\n",
       "    </tr>\n",
       "    <tr>\n",
       "      <th>9</th>\n",
       "      <td>2022-05-10 10:19:10+07:00</td>\n",
       "      <td>10</td>\n",
       "      <td>Pagi hehehehhe https://t.co/rbrvHzSYnG</td>\n",
       "    </tr>\n",
       "    <tr>\n",
       "      <th>10</th>\n",
       "      <td>2022-05-09 09:54:03+07:00</td>\n",
       "      <td>9</td>\n",
       "      <td>Pagi 🥰 https://t.co/wBu9CyviGk</td>\n",
       "    </tr>\n",
       "    <tr>\n",
       "      <th>11</th>\n",
       "      <td>2022-05-08 10:47:01+07:00</td>\n",
       "      <td>10</td>\n",
       "      <td>Pagi https://t.co/01Jrp00cfR</td>\n",
       "    </tr>\n",
       "    <tr>\n",
       "      <th>12</th>\n",
       "      <td>2022-05-07 09:36:39+07:00</td>\n",
       "      <td>9</td>\n",
       "      <td>Pagi ❤️ https://t.co/ji2IMdc7pP</td>\n",
       "    </tr>\n",
       "    <tr>\n",
       "      <th>13</th>\n",
       "      <td>2022-05-05 09:38:14+07:00</td>\n",
       "      <td>9</td>\n",
       "      <td>Pagi\\n\\nNo spoiler spoiler https://t.co/8Ggj0G...</td>\n",
       "    </tr>\n",
       "    <tr>\n",
       "      <th>14</th>\n",
       "      <td>2022-05-04 09:49:31+07:00</td>\n",
       "      <td>9</td>\n",
       "      <td>Pagi ❤️\\n\\nMembership today? Any suggestion fo...</td>\n",
       "    </tr>\n",
       "    <tr>\n",
       "      <th>15</th>\n",
       "      <td>2022-05-02 08:51:27+07:00</td>\n",
       "      <td>8</td>\n",
       "      <td>Pagi ❤️ https://t.co/7EArwwVvfv</td>\n",
       "    </tr>\n",
       "    <tr>\n",
       "      <th>16</th>\n",
       "      <td>2022-05-01 11:11:19+07:00</td>\n",
       "      <td>11</td>\n",
       "      <td>Pagi ❤️ https://t.co/fkZGiQyQXz</td>\n",
       "    </tr>\n",
       "    <tr>\n",
       "      <th>17</th>\n",
       "      <td>2022-04-26 10:52:19+07:00</td>\n",
       "      <td>10</td>\n",
       "      <td>GACHAAAAAAAAAAAAAAAAAAAAAAAAAAAAAAAAAA\\n\\nOh\\n...</td>\n",
       "    </tr>\n",
       "    <tr>\n",
       "      <th>18</th>\n",
       "      <td>2022-04-25 10:21:50+07:00</td>\n",
       "      <td>10</td>\n",
       "      <td>Hehehe pagi https://t.co/dbme1GFPbV</td>\n",
       "    </tr>\n",
       "    <tr>\n",
       "      <th>19</th>\n",
       "      <td>2022-04-20 10:04:40+07:00</td>\n",
       "      <td>10</td>\n",
       "      <td>Pagi ❤️ https://t.co/HFtFm9yKPv</td>\n",
       "    </tr>\n",
       "  </tbody>\n",
       "</table>\n",
       "</div>"
      ],
      "text/plain": [
       "                    Datetime  Hour  \\\n",
       "1  2022-05-19 17:23:52+07:00    17   \n",
       "2  2022-05-17 09:00:33+07:00     9   \n",
       "3  2022-05-17 08:46:00+07:00     8   \n",
       "4  2022-05-16 10:29:08+07:00    10   \n",
       "5  2022-05-15 09:16:01+07:00     9   \n",
       "6  2022-05-14 09:44:51+07:00     9   \n",
       "7  2022-05-13 09:50:33+07:00     9   \n",
       "8  2022-05-12 10:04:17+07:00    10   \n",
       "9  2022-05-10 10:19:10+07:00    10   \n",
       "10 2022-05-09 09:54:03+07:00     9   \n",
       "11 2022-05-08 10:47:01+07:00    10   \n",
       "12 2022-05-07 09:36:39+07:00     9   \n",
       "13 2022-05-05 09:38:14+07:00     9   \n",
       "14 2022-05-04 09:49:31+07:00     9   \n",
       "15 2022-05-02 08:51:27+07:00     8   \n",
       "16 2022-05-01 11:11:19+07:00    11   \n",
       "17 2022-04-26 10:52:19+07:00    10   \n",
       "18 2022-04-25 10:21:50+07:00    10   \n",
       "19 2022-04-20 10:04:40+07:00    10   \n",
       "\n",
       "                                                 Text  \n",
       "1   Kalian tau yopi ngapain aja dari pagi sampai j...  \n",
       "2   Aku yang menikmati teh pagi sambil melihat mem...  \n",
       "3            Hehehehe\\n\\nPagi https://t.co/q2nTY5wksP  \n",
       "4                      Pagi 🥰 https://t.co/1pFoyrRaxP  \n",
       "5                        Pagi https://t.co/4LXFwwlOap  \n",
       "6   Pagi \\n\\nPat my head pls \\n\\nなでなでして https://t....  \n",
       "7                Hmmm\\n\\nPagi https://t.co/fNsglMlKSu  \n",
       "8                      Pagi 💕 https://t.co/RSGzKIc7DI  \n",
       "9              Pagi hehehehhe https://t.co/rbrvHzSYnG  \n",
       "10                     Pagi 🥰 https://t.co/wBu9CyviGk  \n",
       "11                       Pagi https://t.co/01Jrp00cfR  \n",
       "12                    Pagi ❤️ https://t.co/ji2IMdc7pP  \n",
       "13  Pagi\\n\\nNo spoiler spoiler https://t.co/8Ggj0G...  \n",
       "14  Pagi ❤️\\n\\nMembership today? Any suggestion fo...  \n",
       "15                    Pagi ❤️ https://t.co/7EArwwVvfv  \n",
       "16                    Pagi ❤️ https://t.co/fkZGiQyQXz  \n",
       "17  GACHAAAAAAAAAAAAAAAAAAAAAAAAAAAAAAAAAA\\n\\nOh\\n...  \n",
       "18                Hehehe pagi https://t.co/dbme1GFPbV  \n",
       "19                    Pagi ❤️ https://t.co/HFtFm9yKPv  "
      ]
     },
     "execution_count": 3,
     "metadata": {},
     "output_type": "execute_result"
    }
   ],
   "source": [
    "# Creating a dataframe from the tweets list above\n",
    "tweets_df1 = pd.DataFrame(tweets_list1, columns=['Datetime', 'Hour', 'Text'])\n",
    "tweets_df1[tweets_df1.Text.str.contains(\"https://t.co\")]\n",
    "tweets_df1[~tweets_df1.Text.str.contains(\"@\")]\n",
    "# Display first 5 entries from dataframe\n",
    "tweets_df1[1:20]"
   ]
  },
  {
   "cell_type": "markdown",
   "metadata": {},
   "source": [
    "# Count the frequency for each hour"
   ]
  },
  {
   "cell_type": "code",
   "execution_count": 4,
   "metadata": {},
   "outputs": [
    {
     "data": {
      "text/plain": [
       "0       1\n",
       "4       3\n",
       "5       1\n",
       "6       1\n",
       "8     112\n",
       "9     266\n",
       "10     76\n",
       "11     17\n",
       "12     10\n",
       "13      2\n",
       "14      1\n",
       "15      2\n",
       "17      3\n",
       "18      4\n",
       "19      4\n",
       "20      2\n",
       "21      2\n",
       "22      4\n",
       "23      2\n",
       "Name: Hour, dtype: int64"
      ]
     },
     "execution_count": 4,
     "metadata": {},
     "output_type": "execute_result"
    }
   ],
   "source": [
    "count = tweets_df1['Hour'].value_counts()\n",
    "count.sort_index()"
   ]
  },
  {
   "cell_type": "markdown",
   "metadata": {},
   "source": [
    "# Data Visualization"
   ]
  },
  {
   "cell_type": "code",
   "execution_count": 5,
   "metadata": {},
   "outputs": [
    {
     "data": {
      "image/png": "[encoded data removed]",
      "text/plain": [
       "<Figure size 720x360 with 1 Axes>"
      ]
     },
     "metadata": {
      "needs_background": "light"
     },
     "output_type": "display_data"
    }
   ],
   "source": [
    "Hours = count.index\n",
    "Freq = count.values\n",
    "  \n",
    "fig = plt.figure(figsize = (10, 5))\n",
    " \n",
    "# creating the bar plot\n",
    "plt.bar(Hours, Freq, color ='pink',\n",
    "        width = 0.4)\n",
    "plt.xticks(np.arange(0, 23, step=1)) \n",
    "plt.xlabel(\"Time (hour in GMT+7)\")\n",
    "plt.ylabel(\"Frequency\")\n",
    "plt.title(\"'Pagi' tweets frequency for any hour\")\n",
    "plt.show()"
   ]
  },
  {
   "cell_type": "code",
   "execution_count": 64,
   "metadata": {},
   "outputs": [
    {
     "name": "stdout",
     "output_type": "stream",
     "text": [
      "Help on function xticks in module matplotlib.pyplot:\n",
      "\n",
      "xticks(ticks=None, labels=None, **kwargs)\n",
      "    Get or set the current tick locations and labels of the x-axis.\n",
      "    \n",
      "    Pass no arguments to return the current values without modifying them.\n",
      "    \n",
      "    Parameters\n",
      "    ----------\n",
      "    ticks : array-like, optional\n",
      "        The list of xtick locations.  Passing an empty list removes all xticks.\n",
      "    labels : array-like, optional\n",
      "        The labels to place at the given *ticks* locations.  This argument can\n",
      "        only be passed if *ticks* is passed as well.\n",
      "    **kwargs\n",
      "        `.Text` properties can be used to control the appearance of the labels.\n",
      "    \n",
      "    Returns\n",
      "    -------\n",
      "    locs\n",
      "        The list of xtick locations.\n",
      "    labels\n",
      "        The list of xlabel `.Text` objects.\n",
      "    \n",
      "    Notes\n",
      "    -----\n",
      "    Calling this function with no arguments (e.g. ``xticks()``) is the pyplot\n",
      "    equivalent of calling `~.Axes.get_xticks` and `~.Axes.get_xticklabels` on\n",
      "    the current axes.\n",
      "    Calling this function with arguments is the pyplot equivalent of calling\n",
      "    `~.Axes.set_xticks` and `~.Axes.set_xticklabels` on the current axes.\n",
      "    \n",
      "    Examples\n",
      "    --------\n",
      "    >>> locs, labels = xticks()  # Get the current locations and labels.\n",
      "    >>> xticks(np.arange(0, 1, step=0.2))  # Set label locations.\n",
      "    >>> xticks(np.arange(3), ['Tom', 'Dick', 'Sue'])  # Set text labels.\n",
      "    >>> xticks([0, 1, 2], ['January', 'February', 'March'],\n",
      "    ...        rotation=20)  # Set text labels and properties.\n",
      "    >>> xticks([])  # Disable xticks.\n",
      "\n",
      "None\n"
     ]
    }
   ],
   "source": [
    "print(help(plt.xticks))"
   ]
  },
  {
   "cell_type": "code",
   "execution_count": null,
   "metadata": {},
   "outputs": [],
   "source": []
  }
 ],
 "metadata": {
  "kernelspec": {
   "display_name": "myenv",
   "language": "python",
   "name": "myenv"
  },
  "language_info": {
   "codemirror_mode": {
    "name": "ipython",
    "version": 3
   },
   "file_extension": ".py",
   "mimetype": "text/x-python",
   "name": "python",
   "nbconvert_exporter": "python",
   "pygments_lexer": "ipython3",
   "version": "3.7.11"
  }
 },
 "nbformat": 4,
 "nbformat_minor": 4
}
